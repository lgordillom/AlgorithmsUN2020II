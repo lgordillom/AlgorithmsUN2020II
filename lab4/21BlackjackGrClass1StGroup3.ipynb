{
  "nbformat": 4,
  "nbformat_minor": 0,
  "metadata": {
    "colab": {
      "name": "21BlackjackGrClass1StGroup3.ipynb",
      "provenance": [],
      "collapsed_sections": [
        "mEf6AzdsdtR4",
        "45Tnb3Nng4ts",
        "UeO9gHT3lmRM"
      ]
    },
    "kernelspec": {
      "name": "python3",
      "display_name": "Python 3"
    }
  },
  "cells": [
    {
      "cell_type": "markdown",
      "metadata": {
        "id": "sbYV_8BNlSku"
      },
      "source": [
        "* Laura Ximena Gordillo Maldonado\n",
        "* Daniel Alejandro Guillen Rodriguez\n",
        "* Maria Valentina Molina Florez\n",
        "\n",
        "\n",
        "\n"
      ]
    },
    {
      "cell_type": "code",
      "metadata": {
        "id": "gWYXauBUiyLy"
      },
      "source": [
        "import random as r\n",
        "import matplotlib.pyplot as plt"
      ],
      "execution_count": null,
      "outputs": []
    },
    {
      "cell_type": "markdown",
      "metadata": {
        "id": "ZBnGJE6Zdlcv"
      },
      "source": [
        "# **PUNTO 1**"
      ]
    },
    {
      "cell_type": "markdown",
      "metadata": {
        "id": "c-cmFiAldwQa"
      },
      "source": [
        "Estimate the probability of getting a 21, the average number of cards required to complete 21 and plot the experimental distribution of the number of card required to complete 21 drawing cards sequentially from a shuffled Spanish 48-card deck with card values [1,2,3,4,5,6,7,8,9,10,11,12,1,2,3,4,5,6,7,8,9,10,11,12,1,2,3,4,5,6,7,8,9,10,11,12,1,2,3,4,5,6,7,8,9,10,11,12] and from a shuffled Poker 52-card with card values [1,2,3,4,5,6,7,8,9,10,11,12,13,1,2,3,4,5,6,7,8,9,10,11,12,13,1,2,3,4,5,6,7,8,9,10,11,12,13,1,2,3,4,5,6,7,8,9,10,11,12,13] using Montecarlo with 10 millions simulations.\n",
        "\n",
        "\n"
      ]
    },
    {
      "cell_type": "markdown",
      "metadata": {
        "id": "Na3GX59be7Cg"
      },
      "source": [
        "**Baraja Española**"
      ]
    },
    {
      "cell_type": "code",
      "metadata": {
        "id": "zvgacbnSd4VX",
        "outputId": "3c70f52d-1fcd-4e1b-905c-4399d5e1ae78",
        "colab": {
          "base_uri": "https://localhost:8080/",
          "height": 315
        }
      },
      "source": [
        "n=10000000\n",
        "plotcartas = []\n",
        "for i in range(n):\n",
        "  cartas = []\n",
        "  baraja_espa = [1,2,3,4,5,6,7,8,9,10,11,12,1,2,3,4,5,6,7,8,9,10,11,12,1,2,3,4,5,6,7,8,9,10,11,12,1,2,3,4,5,6,7,8,9,10,11,12]\n",
        "  numcar =0 \n",
        "  while(sum(cartas)<21):\n",
        "    carta = r.choice(baraja_espa)\n",
        "    cartas.append(carta)\n",
        "    baraja_espa.remove(carta)\n",
        "    numcar = numcar + 1\n",
        "  if(sum(cartas)==21):\n",
        "    plotcartas.append(numcar)\n",
        "\n",
        "print(\"Probabilidad de 21 con baraja española\", len(plotcartas)/n, \"Promedio numero de cartas\", (sum(plotcartas)/len(plotcartas)))\n",
        "plt.hist(plotcartas, bins= (max(plotcartas)-min(plotcartas)), align=\"mid\")\n",
        "plt.title(\"Número de cartas para obtener 21\")\n",
        "print(\"\")"
      ],
      "execution_count": null,
      "outputs": [
        {
          "output_type": "stream",
          "text": [
            "Probabilidad de 21 con baraja española 0.1451383 Promedio numero de cartas 3.4164736309884356\n"
          ],
          "name": "stdout"
        },
        {
          "output_type": "execute_result",
          "data": {
            "text/plain": [
              "Text(0.5, 1.0, 'Número de cartas para obtener 21')"
            ]
          },
          "metadata": {
            "tags": []
          },
          "execution_count": 20
        },
        {
          "output_type": "display_data",
          "data": {
            "image/png": "[encoded data removed]",
            "text/plain": [
              "<Figure size 432x288 with 1 Axes>"
            ]
          },
          "metadata": {
            "tags": [],
            "needs_background": "light"
          }
        }
      ]
    },
    {
      "cell_type": "markdown",
      "metadata": {
        "id": "436LnwX2rYMB"
      },
      "source": [
        "**Baraja de Poker**\n"
      ]
    },
    {
      "cell_type": "code",
      "metadata": {
        "id": "Bk-ngVo-Y2pI",
        "outputId": "cff1c5b3-6768-4ea8-f11d-43100ec1031e",
        "colab": {
          "base_uri": "https://localhost:8080/",
          "height": 315
        }
      },
      "source": [
        "n=10000000\n",
        "plotcartas = []\n",
        "for i in range(n):\n",
        "  cartas = []\n",
        "  baraja_poker = [1,2,3,4,5,6,7,8,9,10,11,12,13,1,2,3,4,5,6,7,8,9,10,11,12,13,1,2,3,4,5,6,7,8,9,10,11,12,13,1,2,3,4,5,6,7,8,9,10,11,12,13]\n",
        "  numcar =0 \n",
        "  while(sum(cartas)<21):\n",
        "    carta = r.choice(baraja_poker)\n",
        "    cartas.append(carta)\n",
        "    baraja_poker.remove(carta)\n",
        "    numcar = numcar + 1\n",
        "  if(sum(cartas)==21):\n",
        "    plotcartas.append(numcar)\n",
        "    promcart +=numcar\n",
        "print(\"Probabilidad de 21 con baraja poker\", len(plotcartas)/n, \"Promedio numero de cartas\", (sum(plotcartas)/len(plotcartas)))\n",
        "plt.hist(plotcartas, bins=(max(plotcartas)-min(plotcartas)), align=\"mid\")\n",
        "plt.title(\"Número de cartas para obtener 21\")\n",
        "print(\"\")"
      ],
      "execution_count": null,
      "outputs": [
        {
          "output_type": "stream",
          "text": [
            "Probabilidad de 21 con baraja poker 0.1451383 Promedio numero de cartas 3.2153095708641137\n",
            "\n"
          ],
          "name": "stdout"
        },
        {
          "output_type": "display_data",
          "data": {
            "image/png": "[encoded data removed]",
            "text/plain": [
              "<Figure size 432x288 with 1 Axes>"
            ]
          },
          "metadata": {
            "tags": [],
            "needs_background": "light"
          }
        }
      ]
    },
    {
      "cell_type": "markdown",
      "metadata": {
        "id": "mEf6AzdsdtR4"
      },
      "source": [
        "# **PUNTO 2**"
      ]
    },
    {
      "cell_type": "markdown",
      "metadata": {
        "id": "aVp4NClBnbC0"
      },
      "source": [
        "Estimate the probability of getting a 21, the average number of cards required to complete 21 and plot the experimental distribution of the number of card required to complete 21 drawing cards sequentially from a shuffled Spanish 48-card deck with card values [1,2,3,4,5,6,7,10,10,10,1,2,3,4,5,6,7,8,9,10,10,10,1,2,3,4,5,6,7,8,9,10,10,10,1,2,3,4,5,6,7,8,9,10,10,10] and from a shuffled Poker 52-card deck with card values [1,2,3,4,5,6,7,8,9,10,10,10,10,1,2,3,4,5,6,7,8,9,10,10,10,10,1,2,3,4,5,6,7,8,9,10,10,10,10,1,2,3,4,5,6,7,8,9,10,10,10,10] using Montecarlo with 10 millions simulations."
      ]
    },
    {
      "cell_type": "markdown",
      "metadata": {
        "id": "UvfPg9SifJrS"
      },
      "source": [
        " **Baraja Española**"
      ]
    },
    {
      "cell_type": "code",
      "metadata": {
        "id": "_XCtY4Zun5km",
        "outputId": "e1934c61-4b6b-4d7f-de56-5c8e0dd66b85",
        "colab": {
          "base_uri": "https://localhost:8080/",
          "height": 315
        }
      },
      "source": [
        "n=10000000\n",
        "plotcartas = []\n",
        "for i in range(n):\n",
        "  cartas = []\n",
        "  baraja_espa = [1,2,3,4,5,6,7,10,10,10,1,2,3,4,5,6,7,10,10,10,1,2,3,4,5,6,7,10,10,10,1,2,3,4,5,6,7,10,10,10]\n",
        "  numcar =0 \n",
        "  while(sum(cartas)<21):\n",
        "    carta = r.choice(baraja_espa)\n",
        "    cartas.append(carta)\n",
        "    baraja_espa.remove(carta)\n",
        "    numcar = numcar + 1\n",
        "  if(sum(cartas)==21):\n",
        "    plotcartas.append(numcar)\n",
        "\n",
        "print(\"Probabilidad de 21 con baraja española\", len(plotcartas)/n, \"Promedio numero de cartas\", (sum(plotcartas)/len(plotcartas)))\n",
        "plt.hist(plotcartas, bins= (max(plotcartas)-min(plotcartas)), align=\"mid\")\n",
        "plt.title(\"Número de cartas para obtener 21\")\n",
        "print(\"\")"
      ],
      "execution_count": null,
      "outputs": [
        {
          "output_type": "stream",
          "text": [
            "Probabilidad de 21 con baraja española 0.1451383 Promedio numero de cartas 3.951326807271553\n",
            "\n"
          ],
          "name": "stdout"
        },
        {
          "output_type": "display_data",
          "data": {
            "image/png": "[encoded data removed]",
            "text/plain": [
              "<Figure size 432x288 with 1 Axes>"
            ]
          },
          "metadata": {
            "tags": [],
            "needs_background": "light"
          }
        }
      ]
    },
    {
      "cell_type": "markdown",
      "metadata": {
        "id": "-1xq80YHfFO5"
      },
      "source": [
        "**Baraja de Poker**"
      ]
    },
    {
      "cell_type": "code",
      "metadata": {
        "id": "DVuOox6roE3J",
        "outputId": "f785e489-7e93-4727-a714-4cb49c440180",
        "colab": {
          "base_uri": "https://localhost:8080/",
          "height": 315
        }
      },
      "source": [
        "n=10000000\n",
        "plotcartas = []\n",
        "for i in range(n):\n",
        "  cartas = []\n",
        "  baraja_poker = [1,2,3,4,5,6,7,8,9,10,10,10,10,1,2,3,4,5,6,7,8,9,10,10,10,10,1,2,3,4,5,6,7,8,9,10,10,10,10,1,2,3,4,5,6,7,8,9,10,10,10,10]\n",
        "  numcar =0 \n",
        "  while(sum(cartas)<21):\n",
        "    carta = r.choice(baraja_poker)\n",
        "    cartas.append(carta)\n",
        "    baraja_poker.remove(carta)\n",
        "    numcar = numcar + 1\n",
        "  if(sum(cartas)==21):\n",
        "    plotcartas.append(numcar)\n",
        "    promcart +=numcar\n",
        "print(\"Probabilidad de 21 con baraja poker\", len(plotcartas)/n, \"Promedio numero de cartas\", (sum(plotcartas)/len(plotcartas)))\n",
        "plt.hist(plotcartas, bins=(max(plotcartas)-min(plotcartas)), align=\"mid\")\n",
        "plt.title(\"Número de cartas para obtener 21\")\n",
        "print(\"\")"
      ],
      "execution_count": null,
      "outputs": [
        {
          "output_type": "stream",
          "text": [
            "Probabilidad de 21 con baraja poker 0.1451383 Promedio numero de cartas 3.5781907233399397\n",
            "\n"
          ],
          "name": "stdout"
        },
        {
          "output_type": "display_data",
          "data": {
            "image/png": "[encoded data removed]",
            "text/plain": [
              "<Figure size 432x288 with 1 Axes>"
            ]
          },
          "metadata": {
            "tags": [],
            "needs_background": "light"
          }
        }
      ]
    },
    {
      "cell_type": "markdown",
      "metadata": {
        "id": "45Tnb3Nng4ts"
      },
      "source": [
        "# **PUNTO 3**\n"
      ]
    },
    {
      "cell_type": "markdown",
      "metadata": {
        "id": "UCQumwCNoohY"
      },
      "source": [
        "Estimate the probability of getting a 21, the average total number of cards required to complete 21 (including the three that you start with) and plot the experimental distribution of the number of card required to complete 21 with drawing cards sequentially from a shuffled Spanish 48-card deck with 3 10’s and a shuffled Poker 52-card deck with 4 10’s, assuming that you have in your hand the cards [7,7,5]ae and the remaining deck has n/2 cards. You can pick the n/2 cards in the remaining deck in whatever way you choose but with restriction that this has maximum two 7s and three 5, you have to keep the remaining deck fixed through the simulations, use Montecarlo with 10 millions simulations."
      ]
    },
    {
      "cell_type": "markdown",
      "metadata": {
        "id": "qOHWS_TCeTZY"
      },
      "source": [
        "**Baraja Española**"
      ]
    },
    {
      "cell_type": "code",
      "metadata": {
        "id": "F24gPKvWpFkD",
        "outputId": "3c70f52d-1fcd-4e1b-905c-4399d5e1ae78",
        "colab": {
          "base_uri": "https://localhost:8080/",
          "height": 315
        }
      },
      "source": [
        "n=10000000\n",
        "plotcartas = []\n",
        "for i in range(n):\n",
        "  cartas = [7, 7, 5]\n",
        "  baraja_espa = [7,7,5,5,1,1,2,2,3,3,4,4,6,6,8,8,9,9,10,10,5,1,2,9,10,4]\n",
        "  numcar =3 \n",
        "\n",
        "  while(sum(cartas)<21):\n",
        "    carta = r.choice(baraja_espa)\n",
        "    cartas.append(carta)\n",
        "    baraja_espa.remove(carta)\n",
        "    numcar = numcar + 1\n",
        "  if(sum(cartas)==21):\n",
        "    plotcartas.append(numcar)\n",
        "\n",
        "print(\"Probabilidad de 21 con baraja española\", len(plotcartas)/n, \"Promedio numero de cartas\", (sum(plotcartas)/len(plotcartas)))\n",
        "plt.hist(plotcartas, bins= (max(plotcartas)-min(plotcartas)), align=\"mid\")\n",
        "plt.title(\"Número de cartas para obtener 21\")\n",
        "print(\"\")"
      ],
      "execution_count": null,
      "outputs": [
        {
          "output_type": "stream",
          "text": [
            "Probabilidad de 21 con baraja española 0.1451383 Promedio numero de cartas 3.4164736309884356\n"
          ],
          "name": "stdout"
        },
        {
          "output_type": "execute_result",
          "data": {
            "text/plain": [
              "Text(0.5, 1.0, 'Número de cartas para obtener 21')"
            ]
          },
          "metadata": {
            "tags": []
          },
          "execution_count": 20
        },
        {
          "output_type": "display_data",
          "data": {
            "image/png": "[encoded data removed]",
            "text/plain": [
              "<Figure size 432x288 with 1 Axes>"
            ]
          },
          "metadata": {
            "tags": [],
            "needs_background": "light"
          }
        }
      ]
    },
    {
      "cell_type": "markdown",
      "metadata": {
        "id": "PX43Wkofh-_m"
      },
      "source": [
        "**Baraja de Poker**"
      ]
    },
    {
      "cell_type": "code",
      "metadata": {
        "id": "Xu_3iWd-rDSJ",
        "outputId": "cff1c5b3-6768-4ea8-f11d-43100ec1031e",
        "colab": {
          "base_uri": "https://localhost:8080/",
          "height": 315
        }
      },
      "source": [
        "n=10000000\n",
        "plotcartas = []\n",
        "for i in range(n):\n",
        "  cartas = [7, 7, 5]\n",
        "  baraja_poker = [7,7,5,5,1,1,2,2,3,3,4,4,6,6,8,8,9,9,10,10,5,1,2,9,10,4]\n",
        "  numcar =3\n",
        "  while(sum(cartas)<21):\n",
        "    carta = r.choice(baraja_poker)\n",
        "    cartas.append(carta)\n",
        "    baraja_poker.remove(carta)\n",
        "    numcar = numcar + 1\n",
        "  if(sum(cartas)==21):\n",
        "    plotcartas.append(numcar)\n",
        "    promcart +=numcar\n",
        "print(\"Probabilidad de 21 con baraja poker\", len(plotcartas)/n, \"Promedio numero de cartas\", (sum(plotcartas)/len(plotcartas)))\n",
        "plt.hist(plotcartas, bins=(max(plotcartas)-min(plotcartas)), align=\"mid\")\n",
        "plt.title(\"Número de cartas para obtener 21\")\n",
        "print(\"\")"
      ],
      "execution_count": null,
      "outputs": [
        {
          "output_type": "stream",
          "text": [
            "Probabilidad de 21 con baraja poker 0.1451383 Promedio numero de cartas 3.2153095708641137\n",
            "\n"
          ],
          "name": "stdout"
        },
        {
          "output_type": "display_data",
          "data": {
            "image/png": "[encoded data removed]",
            "text/plain": [
              "<Figure size 432x288 with 1 Axes>"
            ]
          },
          "metadata": {
            "tags": [],
            "needs_background": "light"
          }
        }
      ]
    },
    {
      "cell_type": "markdown",
      "metadata": {
        "id": "UeO9gHT3lmRM"
      },
      "source": [
        "# **PUNTO 4**"
      ]
    },
    {
      "cell_type": "markdown",
      "metadata": {
        "id": "ZbUnhwyqTjCh"
      },
      "source": [
        "Find two remaining decks with 12 cards for Alg Gr 1 9-11 and with 10 cards for Alg Gr 2 11-1; for a Spanish 48-card deck with 3 10’s and for a Poker 52-card deck with 4 10’s; one remaining has the highest probability of getting 21 (hot deck) and the other remaining s that has the lowest probability of getting 21(cold deck), assuming that you have in your hand the cards [7,7,5]. Calculate analytically the probabilities of getting a 21 for both the hot an cold deck, estimate this probabilities of getting a 21, the average total number of cards required to complete 21 (including the three that you start with) and plot the experimental distribution of the total number of card required to complete 21 (including the three that you start with) using Montecarlo with 10 millions simulations"
      ]
    },
    {
      "cell_type": "markdown",
      "metadata": {
        "id": "G1jjCkcnQUDQ"
      },
      "source": [
        "**Probabilidad analitica**"
      ]
    },
    {
      "cell_type": "code",
      "metadata": {
        "id": "T7W501cMlOv2",
        "outputId": "bd067097-85f1-4162-dbd9-9eb7dc965e90",
        "colab": {
          "base_uri": "https://localhost:8080/",
          "height": 51
        }
      },
      "source": [
        "print(\"Probabilidad - Hot deck: \", (4/12)*(3/11)+(4/12))\n",
        "print(\"Probabilidad - Cold deck: \", (4/12)*(3/11))"
      ],
      "execution_count": null,
      "outputs": [
        {
          "output_type": "stream",
          "text": [
            "Probabilidad - Hot deck:  0.4242424242424242\n",
            "Probabilidad - Cold deck:  0.0909090909090909\n"
          ],
          "name": "stdout"
        }
      ]
    },
    {
      "cell_type": "markdown",
      "metadata": {
        "id": "Bp2g1jJdluT3"
      },
      "source": [
        "**Baraja Española - Hot deck**"
      ]
    },
    {
      "cell_type": "code",
      "metadata": {
        "id": "o9udeltKP7rK",
        "outputId": "23fb8f60-aea3-47c7-9621-3327446c15eb",
        "colab": {
          "base_uri": "https://localhost:8080/",
          "height": 315
        }
      },
      "source": [
        "n=10000000\n",
        "plotcartas = []\n",
        "for i in range(n):\n",
        "  cartas = [7, 7, 5]\n",
        "  baraja_espa =[3,4,5,6,7,8,9,10,11,12,3,4,5,6,7,8,9,10,11,12,3,4,5,6,7,8,9,10,11,12,3,4,5,6,7,8,9,10,11,12]\n",
        "  hot_deck = [2, 2, 2, 2, 1, 1, 1, 1, r.choice(baraja_espa), r.choice(baraja_espa), r.choice(baraja_espa), r.choice(baraja_espa)]\n",
        "  numcar =3 \n",
        "  while(sum(cartas)<21):\n",
        "    carta = r.choice(hot_deck)\n",
        "    cartas.append(carta)\n",
        "    hot_deck.remove(carta)\n",
        "    numcar = numcar + 1\n",
        "  if(sum(cartas)==21):\n",
        "    plotcartas.append(numcar)\n",
        "\n",
        "print(\"Probabilidad de 21 con baraja española\", len(plotcartas)/n, \"Promedio numero de cartas\", (sum(plotcartas)/len(plotcartas)))\n",
        "plt.hist(plotcartas, bins= 3, align=\"mid\")\n",
        "plt.title(\"Número de cartas para obtener 21\")\n",
        "print(\"\")"
      ],
      "execution_count": 15,
      "outputs": [
        {
          "output_type": "stream",
          "text": [
            "Probabilidad de 21 con baraja española 0.4240842 Promedio numero de cartas 4.214433831772086\n",
            "\n"
          ],
          "name": "stdout"
        },
        {
          "output_type": "display_data",
          "data": {
            "image/png": "[encoded data removed]",
            "text/plain": [
              "<Figure size 432x288 with 1 Axes>"
            ]
          },
          "metadata": {
            "tags": [],
            "needs_background": "light"
          }
        }
      ]
    },
    {
      "cell_type": "markdown",
      "metadata": {
        "id": "BrXuX6QVQ4L7"
      },
      "source": [
        "**Baraja española - Cold deck**"
      ]
    },
    {
      "cell_type": "code",
      "metadata": {
        "id": "r7aRmCz8RNVF",
        "outputId": "51278217-b92c-48a2-c24e-dca600ba5d44",
        "colab": {
          "base_uri": "https://localhost:8080/",
          "height": 315
        }
      },
      "source": [
        "n=10000000\n",
        "plotcartas = []\n",
        "for i in range(n):\n",
        "  cartas = [7, 7, 5]\n",
        "  baraja_espa =[3,4,5,6,7,8,9,10,11,12,3,4,5,6,7,8,9,10,11,12,3,4,5,6,7,8,9,10,11,12,3,4,5,6,7,8,9,10,11,12]\n",
        "  cold_deck = [1, 1, r.choice(baraja_espa), r.choice(baraja_espa), r.choice(baraja_espa), r.choice(baraja_espa), r.choice(baraja_espa), r.choice(baraja_espa), r.choice(baraja_espa),r.choice(baraja_espa), r.choice(baraja_espa), r.choice(baraja_espa) ]\n",
        "  numcar =3 \n",
        "  while(sum(cartas)<21):\n",
        "    carta = r.choice(cold_deck)\n",
        "    cartas.append(carta)\n",
        "    cold_deck.remove(carta)\n",
        "    numcar = numcar + 1\n",
        "  if(sum(cartas)==21):\n",
        "    plotcartas.append(numcar)\n",
        "\n",
        "print(\"Probabilidad de 21 con baraja española\", len(plotcartas)/n, \"Promedio numero de cartas\", (sum(plotcartas)/len(plotcartas)))\n",
        "plt.hist(plotcartas, bins= 3, align=\"mid\")\n",
        "plt.title(\"Número de cartas para obtener 21\")\n",
        "print(\"\")"
      ],
      "execution_count": 16,
      "outputs": [
        {
          "output_type": "stream",
          "text": [
            "Probabilidad de 21 con baraja española 0.0152097 Promedio numero de cartas 5.0\n",
            "\n"
          ],
          "name": "stdout"
        },
        {
          "output_type": "display_data",
          "data": {
            "image/png": "[encoded data removed]",
            "text/plain": [
              "<Figure size 432x288 with 1 Axes>"
            ]
          },
          "metadata": {
            "tags": [],
            "needs_background": "light"
          }
        }
      ]
    },
    {
      "cell_type": "markdown",
      "metadata": {
        "id": "maNIQiy_oRJU"
      },
      "source": [
        "**Baraja de Poker - Hot deck**"
      ]
    },
    {
      "cell_type": "code",
      "metadata": {
        "id": "x4ACWAU8S6T1",
        "outputId": "4e35a528-4107-45d5-a994-34695fd23afb",
        "colab": {
          "base_uri": "https://localhost:8080/",
          "height": 315
        }
      },
      "source": [
        "n=10000000\n",
        "plotcartas = []\n",
        "for i in range(n):\n",
        "  cartas = [7, 7, 5]\n",
        "  baraja_poker = [3,4,5,6,7,8,9,10,11,12,13,3,4,5,6,7,8,9,10,11,12,13,3,4,5,6,7,8,9,10,11,12,13,3,4,5,6,7,8,9,10,11,12,13]\n",
        "  hot_deck = [2, 2, 2, 2, 1, 1, 1, 1, r.choice(baraja_poker), r.choice(baraja_poker), r.choice(baraja_poker), r.choice(baraja_poker)]\n",
        "  numcar =3 \n",
        "  while(sum(cartas)<21):\n",
        "    carta = r.choice(hot_deck)\n",
        "    cartas.append(carta)\n",
        "    hot_deck.remove(carta)\n",
        "    numcar = numcar + 1\n",
        "  if(sum(cartas)==21):\n",
        "    plotcartas.append(numcar)\n",
        "print(\"Probabilidad de 21 con baraja poker\", len(plotcartas)/n, \"Promedio numero de cartas\", (sum(plotcartas)/len(plotcartas)))\n",
        "plt.hist(plotcartas, bins=3, align=\"mid\")\n",
        "plt.title(\"Número de cartas para obtener 21\")\n",
        "print(\"\")"
      ],
      "execution_count": 27,
      "outputs": [
        {
          "output_type": "stream",
          "text": [
            "Probabilidad de 21 con baraja poker 0.4242858 Promedio numero de cartas 4.214391101469811\n",
            "\n"
          ],
          "name": "stdout"
        },
        {
          "output_type": "display_data",
          "data": {
            "image/png": "[encoded data removed]",
            "text/plain": [
              "<Figure size 432x288 with 1 Axes>"
            ]
          },
          "metadata": {
            "tags": [],
            "needs_background": "light"
          }
        }
      ]
    },
    {
      "cell_type": "markdown",
      "metadata": {
        "id": "c7AGf1QiS674"
      },
      "source": [
        "**Baraja de Poker - Cold deck**"
      ]
    },
    {
      "cell_type": "code",
      "metadata": {
        "id": "KDiyfFf2S_Oi",
        "outputId": "b83b6a7d-7571-43ad-952f-da8d93208135",
        "colab": {
          "base_uri": "https://localhost:8080/",
          "height": 315
        }
      },
      "source": [
        "n=10000000\n",
        "plotcartas = []\n",
        "for i in range(n):\n",
        "  cartas = [7, 7, 5]\n",
        "  baraja_poker = [3,4,5,6,7,8,9,10,11,12,13,3,4,5,6,7,8,9,10,11,12,13,3,4,5,6,7,8,9,10,11,12,13,3,4,5,6,7,8,9,10,11,12,13]\n",
        "  cold_deck = [1, 1, r.choice(baraja_poker), r.choice(baraja_poker), r.choice(baraja_poker), r.choice(baraja_poker), r.choice(baraja_poker), r.choice(baraja_poker), r.choice(baraja_poker), r.choice(baraja_poker)]\n",
        "  numcar =0 \n",
        "  while(sum(cartas)<21):\n",
        "    carta = r.choice(cold_deck)\n",
        "    cartas.append(carta)\n",
        "    cold_deck.remove(carta)\n",
        "    numcar = numcar + 1\n",
        "  if(sum(cartas)==21):\n",
        "    plotcartas.append(numcar)\n",
        "    promcart +=numcar\n",
        "print(\"Probabilidad de 21 con baraja poker\", len(plotcartas)/n, \"Promedio numero de cartas\", (sum(plotcartas)/len(plotcartas)))\n",
        "plt.hist(plotcartas, bins=3, align=\"mid\")\n",
        "plt.title(\"Número de cartas para obtener 21\")\n",
        "print(\"\")"
      ],
      "execution_count": 26,
      "outputs": [
        {
          "output_type": "stream",
          "text": [
            "Probabilidad de 21 con baraja poker 0.0222626 Promedio numero de cartas 2.0\n",
            "\n"
          ],
          "name": "stdout"
        },
        {
          "output_type": "display_data",
          "data": {
            "image/png": "[encoded data removed]",
            "text/plain": [
              "<Figure size 432x288 with 1 Axes>"
            ]
          },
          "metadata": {
            "tags": [],
            "needs_background": "light"
          }
        }
      ]
    },
    {
      "cell_type": "markdown",
      "metadata": {
        "id": "mrRfWTFuqgzC"
      },
      "source": [
        "# **PUNTO 5**"
      ]
    },
    {
      "cell_type": "markdown",
      "metadata": {
        "id": "A0A1DmFLUKgn"
      },
      "source": [
        "Estimate the average amount of money (expected value) that Ben wins or losses on a weekend if Ben goes to Vegas every weekend (Friday, Saturday and Sunday), plays every weekend day 10 hours, each game takes 3 mins. Assume that for each game he gets two possibilities, in one he gets in his hand the cards [7,7,5] and a remaining hot deck cards with 12 cards for Alg Gr 1 9-11 and with 10 cards for Alg Gr 2 11-1 which case he bets 1000 this happens with probability 1/10; in the other one he gets no cards in his hand a complete shuffled deck in which case he bets $10, this happens with the remaining probability 9/10. Use 10000 Montecarlo simulations to estimated the expected amount of money that Ben wins or losses on a weekend for a Spanish 48-card deck with 3 10’s and for a Poker 52-card deck with 4 10’s"
      ]
    },
    {
      "cell_type": "markdown",
      "metadata": {
        "id": "lej-xKoYUV5b"
      },
      "source": [
        "**Baraja española**"
      ]
    },
    {
      "cell_type": "code",
      "metadata": {
        "id": "vuZGaBbYsAH8",
        "outputId": "0a4bd834-452a-4a64-d9f0-edb779823939",
        "colab": {
          "base_uri": "https://localhost:8080/",
          "height": 34
        }
      },
      "source": [
        "m=10000\n",
        "\n",
        "n=600\n",
        "baraja_espa =[3,4,5,6,7,8,9,10,11,12,3,4,5,6,7,8,9,10,11,12,3,4,5,6,7,8,9,10,11,12,3,4,5,6,7,8,9,10,11,12]\n",
        "hot_deck = [2, 2, 2, 2, 1, 1, 1, 1, r.choice(baraja_espa), r.choice(baraja_espa), r.choice(baraja_espa), r.choice(baraja_espa)]\n",
        "cold_deck = [1,2,3,4,5,6,7,8,9,10,11,12,1,2,3,4,5,6,7,8,9,10,11,12,1,2,3,4,5,6,7,8,9,10,11,12,1,2,3,4,5,6,7,8,9,10,11,12]\n",
        "\n",
        "total=0\n",
        "\n",
        "for j in range(m):\n",
        "\n",
        "  for i in range(n):\n",
        "    rand = r.randrange(10)\n",
        "    cartas = []\n",
        "  \n",
        "    if(rand==0):\n",
        "      cartas= [7, 7, 5]\n",
        "      numcar = 3\n",
        "      deck= hot_deck\n",
        "      bet = 1000\n",
        "    else:\n",
        "      deck= cold_deck \n",
        "      numcar = 0\n",
        "      bet = 10\n",
        "\n",
        "    while(sum(cartas)<21):\n",
        "      if len(deck)==0:\n",
        "        break\n",
        "      carta = r.choice(deck)\n",
        "      cartas.append(carta)\n",
        "      deck.remove(carta)\n",
        "      numcar = numcar + 1\n",
        "    \n",
        "    if(sum(cartas)==21):\n",
        "      count= count+1\n",
        "      promcart = promcart + numcar\n",
        "      total += bet\n",
        "    else: \n",
        "      total -= bet\n",
        "  \n",
        "\n",
        "print(\"Ganancias o perdidas semanales:\", total/m)\n"
      ],
      "execution_count": null,
      "outputs": [
        {
          "output_type": "stream",
          "text": [
            "Ganancias o perdidas semanales: -65352.27\n"
          ],
          "name": "stdout"
        }
      ]
    },
    {
      "cell_type": "markdown",
      "metadata": {
        "id": "xnwdsn0zaZe0"
      },
      "source": [
        "**Baraja de Poker**"
      ]
    },
    {
      "cell_type": "code",
      "metadata": {
        "id": "nJh92OY1akUU",
        "outputId": "501ac0fe-2ad5-40e3-d1a1-66e044e046f0",
        "colab": {
          "base_uri": "https://localhost:8080/",
          "height": 34
        }
      },
      "source": [
        "m=10000\n",
        "\n",
        "n=600\n",
        "baraja_poker = [1,2,3,4,5,6,7,8,9,10,11,12,13,1,2,3,4,5,6,7,8,9,10,11,12,13,1,2,3,4,5,6,7,8,9,10,11,12,13,1,2,3,4,5,6,7,8,9,10,11,12,13]\n",
        "hot_deck = [2, 2, 2, 2, 1, 1, 1, 1, r.choice(baraja_poker), r.choice(baraja_poker), r.choice(baraja_poker), r.choice(baraja_poker)]\n",
        "cold_deck = [1,2,3,4,5,6,7,8,9,10,11,12,1,2,3,4,5,6,7,8,9,10,11,12,1,2,3,4,5,6,7,8,9,10,11,12,1,2,3,4,5,6,7,8,9,10,11,12]\n",
        "\n",
        "total=0\n",
        "\n",
        "for j in range(m):\n",
        "\n",
        "  for i in range(n):\n",
        "    rand = r.randrange(10)\n",
        "    cartas = []\n",
        "  \n",
        "    if(rand==0):\n",
        "      cartas= [7, 7, 5]\n",
        "      numcar = 3\n",
        "      deck= hot_deck\n",
        "      bet = 1000\n",
        "    else:\n",
        "      deck= cold_deck \n",
        "      numcar = 0\n",
        "      bet = 10\n",
        "\n",
        "    while(sum(cartas)<21):\n",
        "      if len(deck)==0:\n",
        "        break\n",
        "      carta = r.choice(deck)\n",
        "      cartas.append(carta)\n",
        "      deck.remove(carta)\n",
        "      numcar = numcar + 1\n",
        "    \n",
        "    if(sum(cartas)==21):\n",
        "      count= count+1\n",
        "      promcart = promcart + numcar\n",
        "      total += bet\n",
        "    else: \n",
        "      total -= bet\n",
        "  \n",
        "\n",
        "print(\"Ganancias o perdidas semanales:\", total/m)\n"
      ],
      "execution_count": null,
      "outputs": [
        {
          "output_type": "stream",
          "text": [
            "Ganancias o perdidas semanales: -65401.867\n"
          ],
          "name": "stdout"
        }
      ]
    }
  ]
}